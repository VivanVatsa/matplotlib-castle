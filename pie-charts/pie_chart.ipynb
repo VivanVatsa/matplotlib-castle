{
 "metadata": {
  "language_info": {
   "codemirror_mode": {
    "name": "ipython",
    "version": 3
   },
   "file_extension": ".py",
   "mimetype": "text/x-python",
   "name": "python",
   "nbconvert_exporter": "python",
   "pygments_lexer": "ipython3",
   "version": 3
  },
  "orig_nbformat": 2
 },
 "nbformat": 4,
 "nbformat_minor": 2,
 "cells": [
  {
   "cell_type": "code",
   "execution_count": null,
   "metadata": {},
   "outputs": [],
   "source": [
    "from matplotlib import pyplot as plt\n",
    "\n",
    "plt.style.use(\"fivethirtyeight\")\n",
    "\n",
    "\n",
    "plt.title(\"My Awesome Pie Chart\")\n",
    "plt.tight_layout()\n",
    "plt.show()\n",
    "\n",
    "# Colors:\n",
    "# Blue = #008fd5\n",
    "# Red = #fc4f30\n",
    "# Yellow = #e5ae37\n",
    "# Green = #6d904f"
   ]
  }
 ]
}